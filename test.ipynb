{
 "cells": [
  {
   "cell_type": "code",
   "execution_count": 3,
   "metadata": {},
   "outputs": [
    {
     "data": {
      "text/plain": [
       "'scatter.html'"
      ]
     },
     "execution_count": 3,
     "metadata": {},
     "output_type": "execute_result"
    }
   ],
   "source": [
    "import plotly.graph_objs as go \n",
    "import pandas as pd\n",
    "import plotly_express as px\n",
    "import numpy as np\n",
    "import plotly.offline as pyo\n",
    "\n",
    "\n",
    "df=pd.read_csv(\"gapminderDataFiveYear.csv\")\n",
    "\n",
    "df.head(5)\n",
    "# x and y lists\n",
    "xcol_list = df['year'].tolist()\n",
    "ycol_list = df['pop'].tolist()\n",
    "\n",
    "\n",
    "\n",
    "#Setting up the data\n",
    "data = [go.Scatter(x=xcol_list,\n",
    "                   y=ycol_list, \n",
    "                   mode='markers',\n",
    "                   marker=dict(\n",
    "                       size=10,\n",
    "                       color='rgb(51,403,203)',\n",
    "                       symbol='pentagon',\n",
    "                       line={'width':3}\n",
    "                   ))]\n",
    "\n",
    "#Setting up the layout of the graph\n",
    "layout = go.Layout(title='Hello First Plot',\n",
    "                   xaxis= {'title':'My X-axis'},\n",
    "                   yaxis=dict(title='My Y-axis'),\n",
    "                   hovermode='closest')\n",
    "\n",
    "#fig object\n",
    "fig = go.Figure(data=data,layout=layout)\n",
    "\n",
    "\n",
    "#plot fig object\n",
    "pyo.plot(fig,filename='scatter.html')"
   ]
  },
  {
   "cell_type": "code",
   "execution_count": 4,
   "metadata": {},
   "outputs": [
    {
     "data": {
      "text/html": [
       "\n",
       "        <iframe\n",
       "            width=\"100%\"\n",
       "            height=\"650\"\n",
       "            src=\"http://127.0.0.1:8050/\"\n",
       "            frameborder=\"0\"\n",
       "            allowfullscreen\n",
       "            \n",
       "        ></iframe>\n",
       "        "
      ],
      "text/plain": [
       "<IPython.lib.display.IFrame at 0x119791f70>"
      ]
     },
     "metadata": {},
     "output_type": "display_data"
    }
   ],
   "source": [
    "import dash\n",
    "import dash_core_components as dcc \n",
    "import dash_html_components as html \n",
    "import plotly.graph_objs as go \n",
    "import pandas as pd\n",
    "\n",
    "df = pd.read_csv('gapminderDataFiveYear.csv')\n",
    "\n",
    "df.head(5)\n",
    "\n",
    "app = dash.Dash()\n",
    "\n",
    "go_graph_data_fig=go.Scatter(x=df['year'],y=df['lifeExp'],mode='markers')\n",
    "go_graph_layout_fig=go.Layout(title='year vs lifeExp',xaxis={'title':'year'},yaxis={'title':'lifeexp'})\n",
    "\n",
    "\n",
    "app.layout=html.Div([dcc.Graph(id='gapminder',\n",
    "                          figure={\n",
    "                                    'data':[go_graph_data_fig],                   \n",
    "                                    'layout':go_graph_layout_fig\n",
    "                                }\n",
    "                          )\n",
    "\n",
    "])\n",
    "\n",
    "if __name__=='__main__':\n",
    "    app.run_server()"
   ]
  }
 ],
 "metadata": {
  "kernelspec": {
   "display_name": "Python 3",
   "language": "python",
   "name": "python3"
  },
  "language_info": {
   "codemirror_mode": {
    "name": "ipython",
    "version": 3
   },
   "file_extension": ".py",
   "mimetype": "text/x-python",
   "name": "python",
   "nbconvert_exporter": "python",
   "pygments_lexer": "ipython3",
   "version": "3.9.6"
  }
 },
 "nbformat": 4,
 "nbformat_minor": 2
}
